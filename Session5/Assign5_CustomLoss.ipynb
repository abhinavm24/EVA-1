{
  "nbformat": 4,
  "nbformat_minor": 0,
  "metadata": {
    "colab": {
      "name": "Assign5_CustomLoss2.ipynb",
      "version": "0.3.2",
      "provenance": [],
      "collapsed_sections": []
    },
    "kernelspec": {
      "name": "python3",
      "display_name": "Python 3"
    },
    "accelerator": "GPU"
  },
  "cells": [
    {
      "cell_type": "markdown",
      "metadata": {
        "id": "Q9aAeoiGWWrY",
        "colab_type": "text"
      },
      "source": [
        "####  **Import Libraries and modules**"
      ]
    },
    {
      "cell_type": "code",
      "metadata": {
        "id": "0SJyVpgSxHt4",
        "colab_type": "code",
        "outputId": "21b6906e-7814-4e24-bf46-952789dfb725",
        "colab": {
          "base_uri": "https://localhost:8080/",
          "height": 166
        }
      },
      "source": [
        "import numpy as np\n",
        "import keras\n",
        "\n",
        "from keras.models import Sequential\n",
        "from keras.layers import Dense, Dropout, Activation, Flatten, Add, BatchNormalization\n",
        "from keras.layers import Conv2D, MaxPooling2D, Activation\n",
        "from keras.utils import np_utils\n",
        "from keras.preprocessing.image import ImageDataGenerator\n",
        "from keras.optimizers import Adam\n",
        "from keras.callbacks import LearningRateScheduler\n",
        "from keras.callbacks import ModelCheckpoint\n",
        "from keras import backend as K\n",
        "\n",
        "from keras.datasets import mnist\n",
        "from matplotlib import pyplot as plt\n",
        "%matplotlib inline\n",
        "\n",
        "from google.colab import drive\n",
        "\n",
        "drive.mount('/content/gdrive')\n",
        "dir=\"/content/gdrive/My Drive/Colab Notebooks/EVA/Weights/Assign5/\"\n",
        "\n",
        "!ls"
      ],
      "execution_count": 0,
      "outputs": [
        {
          "output_type": "stream",
          "text": [
            "Using TensorFlow backend.\n"
          ],
          "name": "stderr"
        },
        {
          "output_type": "stream",
          "text": [
            "Go to this URL in a browser: https://accounts.google.com/o/oauth2/auth?client_id=947318989803-6bn6qk8qdgf4n4g3pfee6491hc0brc4i.apps.googleusercontent.com&redirect_uri=urn%3Aietf%3Awg%3Aoauth%3A2.0%3Aoob&scope=email%20https%3A%2F%2Fwww.googleapis.com%2Fauth%2Fdocs.test%20https%3A%2F%2Fwww.googleapis.com%2Fauth%2Fdrive%20https%3A%2F%2Fwww.googleapis.com%2Fauth%2Fdrive.photos.readonly%20https%3A%2F%2Fwww.googleapis.com%2Fauth%2Fpeopleapi.readonly&response_type=code\n",
            "\n",
            "Enter your authorization code:\n",
            "··········\n",
            "Mounted at /content/gdrive\n",
            "gdrive\tsample_data\n"
          ],
          "name": "stdout"
        }
      ]
    },
    {
      "cell_type": "markdown",
      "metadata": {
        "id": "Bugf5EB4WaA2",
        "colab_type": "text"
      },
      "source": [
        "### Load pre-shuffled MNIST data into train and test sets\n",
        "Plotting a sample image from the dataset "
      ]
    },
    {
      "cell_type": "code",
      "metadata": {
        "id": "I6Y9Va-xxMXG",
        "colab_type": "code",
        "outputId": "4eee2d24-a620-459e-c42f-cf4c6370fabd",
        "colab": {
          "base_uri": "https://localhost:8080/",
          "height": 342
        }
      },
      "source": [
        "(x_train, y_train), (x_test, y_test) = mnist.load_data()\n",
        "print (x_train.shape)\n",
        "\n",
        "plt.imshow(x_train[1], cmap='gray')"
      ],
      "execution_count": 0,
      "outputs": [
        {
          "output_type": "stream",
          "text": [
            "Downloading data from https://s3.amazonaws.com/img-datasets/mnist.npz\n",
            "11493376/11490434 [==============================] - 2s 0us/step\n",
            "(60000, 28, 28)\n"
          ],
          "name": "stdout"
        },
        {
          "output_type": "execute_result",
          "data": {
            "text/plain": [
              "<matplotlib.image.AxesImage at 0x7fc21c7e2f98>"
            ]
          },
          "metadata": {
            "tags": []
          },
          "execution_count": 2
        },
        {
          "output_type": "display_data",
          "data": {
            "image/png": "[encoded data removed]",
            "text/plain": [
              "<Figure size 432x288 with 1 Axes>"
            ]
          },
          "metadata": {
            "tags": []
          }
        }
      ]
    },
    {
      "cell_type": "code",
      "metadata": {
        "id": "lxDZxPhhxOgO",
        "colab_type": "code",
        "outputId": "d278d9c5-63e6-41a4-8853-7d2c8fc11ac4",
        "colab": {
          "base_uri": "https://localhost:8080/",
          "height": 127
        }
      },
      "source": [
        "X_train = x_train.reshape(x_train.shape[0], 28, 28,1)\n",
        "X_test = x_test.reshape(x_test.shape[0], 28, 28,1)\n",
        "\n",
        "X_train = X_train.astype('float32')\n",
        "X_test = X_test.astype('float32')\n",
        "\n",
        "# Image standardisation\n",
        "X_train /= 255\n",
        "X_test /= 255\n",
        "\n",
        "print(X_train.shape)\n",
        "# Row 15 of second image\n",
        "print(X_train[1,15,:,0])"
      ],
      "execution_count": 0,
      "outputs": [
        {
          "output_type": "stream",
          "text": [
            "(60000, 28, 28, 1)\n",
            "[0.         0.         0.         0.         0.         0.\n",
            " 0.29803923 0.9647059  0.9882353  0.4392157  0.         0.\n",
            " 0.         0.         0.         0.         0.         0.\n",
            " 0.         0.         0.99215686 0.9882353  0.5803922  0.\n",
            " 0.         0.         0.         0.        ]\n"
          ],
          "name": "stdout"
        }
      ]
    },
    {
      "cell_type": "markdown",
      "metadata": {
        "id": "uoa5K7ynWpfq",
        "colab_type": "text"
      },
      "source": [
        "One hot encoding the labels from training and test set. Each 1d label is converted to 10d sparse matrix. Eg, digit 2 becomes [0., 0., 1., 0., 0., 0., 0., 0., 0., 0.]"
      ]
    },
    {
      "cell_type": "code",
      "metadata": {
        "id": "7LdYiW6ixR9e",
        "colab_type": "code",
        "outputId": "7c53409b-b86d-477c-900b-bdc8fe75d431",
        "colab": {
          "base_uri": "https://localhost:8080/",
          "height": 54
        }
      },
      "source": [
        "print(y_train[1])\n",
        "Y_train = np_utils.to_categorical(y_train, 10)\n",
        "Y_test = np_utils.to_categorical(y_test, 10)\n",
        "\n",
        "Y_train[1]"
      ],
      "execution_count": 0,
      "outputs": [
        {
          "output_type": "stream",
          "text": [
            "0\n"
          ],
          "name": "stdout"
        },
        {
          "output_type": "execute_result",
          "data": {
            "text/plain": [
              "array([1., 0., 0., 0., 0., 0., 0., 0., 0., 0.], dtype=float32)"
            ]
          },
          "metadata": {
            "tags": []
          },
          "execution_count": 24
        }
      ]
    },
    {
      "cell_type": "markdown",
      "metadata": {
        "id": "jokeMUyIWtph",
        "colab_type": "text"
      },
      "source": [
        "#### Image normalisation"
      ]
    },
    {
      "cell_type": "code",
      "metadata": {
        "id": "EC8_F-2ctU5B",
        "colab_type": "code",
        "outputId": "a1bdf5bd-6a82-4464-b3a7-d58323417172",
        "colab": {
          "base_uri": "https://localhost:8080/",
          "height": 54
        }
      },
      "source": [
        "# Entire dataset mean and standard deviation\n",
        "print('Statistics train=%.3f (%.3f), test=%.3f (%.3f)' % (X_train.mean(), X_train.std(), X_test.mean(), X_test.std()))\n",
        "\n",
        "# Create generator to normalize images\n",
        "# feature-wise is per-dataset, sample-wise is per-image\n",
        "datagen = ImageDataGenerator(featurewise_center=True, featurewise_std_normalization=True)\n",
        "\n",
        "# Calculate mean, var on training dataset, required if featurewise_center/featurewise_std_normalization set to True\n",
        "datagen.fit(X_train)\n",
        "print('Train data generator mean=%.3f, std=%.3f' % (datagen.mean, datagen.std))"
      ],
      "execution_count": 0,
      "outputs": [
        {
          "output_type": "stream",
          "text": [
            "Statistics train=0.131 (0.308), test=0.133 (0.310)\n",
            "Train data generator mean=0.131, std=0.308\n"
          ],
          "name": "stdout"
        }
      ]
    },
    {
      "cell_type": "code",
      "metadata": {
        "id": "BeQt9looB8EN",
        "colab_type": "code",
        "outputId": "3eccb76b-2b50-4cb9-8c6d-203d3c4f5b86",
        "colab": {
          "base_uri": "https://localhost:8080/",
          "height": 35
        }
      },
      "source": [
        "batch_size = 128\n",
        "\n",
        "# get batch of the training set\n",
        "train_iterator = datagen.flow(X_train, Y_train, batch_size=batch_size, shuffle=True, seed=42) # default is true\n",
        "batchX, batchy = train_iterator.next()\n",
        "\n",
        "valid_iterator = datagen.flow(X_test, Y_test, batch_size=batch_size, shuffle=True, seed=42)\n",
        "\n",
        "print('Batches train=%d, test=%d' % (len(train_iterator), len(valid_iterator)))"
      ],
      "execution_count": 0,
      "outputs": [
        {
          "output_type": "stream",
          "text": [
            "Batches train=469, test=79\n"
          ],
          "name": "stdout"
        }
      ]
    },
    {
      "cell_type": "code",
      "metadata": {
        "id": "tQtKQ1JOYklL",
        "colab_type": "code",
        "outputId": "1a7d10fb-fcba-4e3e-bb30-9edea5b9ec4d",
        "colab": {
          "base_uri": "https://localhost:8080/",
          "height": 127
        }
      },
      "source": [
        "print(batchX.shape)\n",
        "print(batchX[1,15,:,0])"
      ],
      "execution_count": 0,
      "outputs": [
        {
          "output_type": "stream",
          "text": [
            "(128, 28, 28, 1)\n",
            "[-0.42407304 -0.42407304 -0.42407304 -0.42407304 -0.42407304 -0.42407304\n",
            " -0.42407304 -0.42407304 -0.42407304  0.39051074  2.0069501   1.2050945\n",
            "  1.2050945   1.2050945   1.2050945  -0.42407304 -0.42407304 -0.42407304\n",
            "  2.0069501   2.821534    2.821534    1.2050945  -0.42407304 -0.42407304\n",
            " -0.42407304 -0.42407304 -0.42407304 -0.42407304]\n"
          ],
          "name": "stdout"
        }
      ]
    },
    {
      "cell_type": "code",
      "metadata": {
        "colab_type": "code",
        "id": "bL3JTX3_c8-L",
        "colab": {}
      },
      "source": [
        "def build_model():\n",
        "  model = Sequential()\n",
        "\n",
        "  model.add(Conv2D(16, kernel_size=(3, 3), use_bias=False, input_shape=(28,28,1))) #26\n",
        "  model.add(BatchNormalization())\n",
        "  model.add(Activation('relu'))\n",
        "  model.add(Dropout(0.1))\n",
        "\n",
        "  model.add(Conv2D(32, (3, 3), use_bias=False)) #24\n",
        "  model.add(BatchNormalization())\n",
        "  model.add(Activation('relu'))\n",
        "  model.add(Dropout(0.1))\n",
        "\n",
        "  model.add(Conv2D(10, (1, 1), activation='relu', use_bias=False))\n",
        "  model.add(MaxPooling2D(pool_size=(2, 2)))#12\n",
        "\n",
        "  model.add(Conv2D(16, (3, 3), use_bias=False))#10\n",
        "  model.add(BatchNormalization())\n",
        "  model.add(Activation('relu'))\n",
        "  model.add(Dropout(0.1))\n",
        "\n",
        "  model.add(Conv2D(16, (3, 3), use_bias=False))#8\n",
        "  model.add(BatchNormalization())\n",
        "  model.add(Activation('relu'))\n",
        "  model.add(Dropout(0.1))\n",
        "\n",
        "  model.add(Conv2D(16, (3, 3), use_bias=False))#6\n",
        "  model.add(BatchNormalization())\n",
        "  model.add(Activation('relu'))\n",
        "  model.add(Dropout(0.1))\n",
        "\n",
        "  model.add(Conv2D(16, (3, 3), use_bias=False))#4\n",
        "  model.add(BatchNormalization())\n",
        "  model.add(Activation('relu'))\n",
        "  model.add(Dropout(0.1))\n",
        "\n",
        "  model.add(Conv2D(10, (4, 4))) \n",
        "\n",
        "  model.add(Flatten())\n",
        "  model.add(Activation('softmax'))\n",
        "  \n",
        "  return model\n",
        "\n",
        "# custom_model = build_model()\n",
        "# custom_model.summary()"
      ],
      "execution_count": 0,
      "outputs": []
    },
    {
      "cell_type": "markdown",
      "metadata": {
        "id": "UE4vJQ2od6JN",
        "colab_type": "text"
      },
      "source": [
        "#### With std. loss and LR - best val. accuracy at epoch 20 is 99.47% (train acc. 99.26%)"
      ]
    },
    {
      "cell_type": "code",
      "metadata": {
        "id": "QaNYeM4HdeVM",
        "colab_type": "code",
        "outputId": "3906dcfa-473a-485c-bdd8-20c4b72ec320",
        "colab": {
          "base_uri": "https://localhost:8080/",
          "height": 770
        }
      },
      "source": [
        "custom_model = build_model()\n",
        "custom_model.compile(loss='categorical_crossentropy', optimizer='adam', metrics=['accuracy'])\n",
        "\n",
        "custom_model.fit_generator(train_iterator, steps_per_epoch=len(train_iterator),                     \n",
        "                    validation_data=valid_iterator, validation_steps=len(valid_iterator),\n",
        "                    epochs=20, verbose=1)"
      ],
      "execution_count": 0,
      "outputs": [
        {
          "output_type": "stream",
          "text": [
            "Epoch 1/20\n",
            "469/469 [==============================] - 14s 30ms/step - loss: 0.3951 - acc: 0.8819 - val_loss: 0.1079 - val_acc: 0.9659\n",
            "Epoch 2/20\n",
            "469/469 [==============================] - 11s 24ms/step - loss: 0.0827 - acc: 0.9750 - val_loss: 0.0576 - val_acc: 0.9816\n",
            "Epoch 3/20\n",
            "469/469 [==============================] - 12s 25ms/step - loss: 0.0600 - acc: 0.9815 - val_loss: 0.0357 - val_acc: 0.9884\n",
            "Epoch 4/20\n",
            "469/469 [==============================] - 11s 24ms/step - loss: 0.0497 - acc: 0.9846 - val_loss: 0.0331 - val_acc: 0.9893\n",
            "Epoch 5/20\n",
            "469/469 [==============================] - 11s 24ms/step - loss: 0.0433 - acc: 0.9861 - val_loss: 0.0292 - val_acc: 0.9902\n",
            "Epoch 6/20\n",
            "469/469 [==============================] - 11s 24ms/step - loss: 0.0404 - acc: 0.9872 - val_loss: 0.0287 - val_acc: 0.9912\n",
            "Epoch 7/20\n",
            "469/469 [==============================] - 11s 24ms/step - loss: 0.0384 - acc: 0.9879 - val_loss: 0.0226 - val_acc: 0.9927\n",
            "Epoch 8/20\n",
            "469/469 [==============================] - 12s 25ms/step - loss: 0.0333 - acc: 0.9890 - val_loss: 0.0236 - val_acc: 0.9921\n",
            "Epoch 9/20\n",
            "469/469 [==============================] - 12s 25ms/step - loss: 0.0323 - acc: 0.9899 - val_loss: 0.0285 - val_acc: 0.9912\n",
            "Epoch 10/20\n",
            "469/469 [==============================] - 12s 25ms/step - loss: 0.0305 - acc: 0.9905 - val_loss: 0.0192 - val_acc: 0.9939\n",
            "Epoch 11/20\n",
            "469/469 [==============================] - 12s 25ms/step - loss: 0.0309 - acc: 0.9897 - val_loss: 0.0204 - val_acc: 0.9933\n",
            "Epoch 12/20\n",
            "469/469 [==============================] - 12s 25ms/step - loss: 0.0287 - acc: 0.9909 - val_loss: 0.0236 - val_acc: 0.9925\n",
            "Epoch 13/20\n",
            "469/469 [==============================] - 12s 25ms/step - loss: 0.0271 - acc: 0.9913 - val_loss: 0.0210 - val_acc: 0.9935\n",
            "Epoch 14/20\n",
            "469/469 [==============================] - 12s 25ms/step - loss: 0.0270 - acc: 0.9912 - val_loss: 0.0215 - val_acc: 0.9930\n",
            "Epoch 15/20\n",
            "469/469 [==============================] - 12s 25ms/step - loss: 0.0266 - acc: 0.9913 - val_loss: 0.0222 - val_acc: 0.9922\n",
            "Epoch 16/20\n",
            "469/469 [==============================] - 12s 25ms/step - loss: 0.0247 - acc: 0.9923 - val_loss: 0.0187 - val_acc: 0.9937\n",
            "Epoch 17/20\n",
            "469/469 [==============================] - 12s 25ms/step - loss: 0.0230 - acc: 0.9927 - val_loss: 0.0198 - val_acc: 0.9936\n",
            "Epoch 18/20\n",
            "469/469 [==============================] - 11s 24ms/step - loss: 0.0232 - acc: 0.9926 - val_loss: 0.0214 - val_acc: 0.9928\n",
            "Epoch 19/20\n",
            "469/469 [==============================] - 12s 25ms/step - loss: 0.0232 - acc: 0.9924 - val_loss: 0.0233 - val_acc: 0.9916\n",
            "Epoch 20/20\n",
            "469/469 [==============================] - 12s 25ms/step - loss: 0.0229 - acc: 0.9926 - val_loss: 0.0211 - val_acc: 0.9932\n"
          ],
          "name": "stdout"
        },
        {
          "output_type": "execute_result",
          "data": {
            "text/plain": [
              "<keras.callbacks.History at 0x7fc1c70e9e10>"
            ]
          },
          "metadata": {
            "tags": []
          },
          "execution_count": 29
        }
      ]
    },
    {
      "cell_type": "code",
      "metadata": {
        "id": "jqieUaLdcPyn",
        "colab_type": "code",
        "colab": {}
      },
      "source": [
        "init_lr = 0.003\n",
        "\n",
        "def scheduler(epoch, lr):\n",
        "  return round(init_lr * 1/(1 + 0.319 * epoch), 10)\n",
        "\n",
        "new_lr = LearningRateScheduler(scheduler, verbose=1)"
      ],
      "execution_count": 0,
      "outputs": []
    },
    {
      "cell_type": "markdown",
      "metadata": {
        "id": "lnhB3-DadQZx",
        "colab_type": "text"
      },
      "source": [
        "#### With std. loss and custom LR - best val. accuracy at epoch 19 is 99.48% (train acc. 99.45%)"
      ]
    },
    {
      "cell_type": "code",
      "metadata": {
        "id": "JHJN0Xc4b3K7",
        "colab_type": "code",
        "outputId": "20d001be-7f70-4083-ec25-e3b7c11384cd",
        "colab": {
          "base_uri": "https://localhost:8080/",
          "height": 1000
        }
      },
      "source": [
        "custom_model = build_model()\n",
        "custom_model.compile(loss='categorical_crossentropy', optimizer=Adam(lr=init_lr), metrics=['accuracy'])\n",
        "\n",
        "custom_model.fit_generator(train_iterator, steps_per_epoch=len(train_iterator),                     \n",
        "                    validation_data=valid_iterator, validation_steps=len(valid_iterator),\n",
        "                    epochs=20, verbose=1, callbacks=[new_lr])"
      ],
      "execution_count": 0,
      "outputs": [
        {
          "output_type": "stream",
          "text": [
            "Epoch 1/20\n",
            "\n",
            "Epoch 00001: LearningRateScheduler setting learning rate to 0.003.\n",
            "469/469 [==============================] - 15s 32ms/step - loss: 0.2271 - acc: 0.9295 - val_loss: 0.0635 - val_acc: 0.9787\n",
            "Epoch 2/20\n",
            "\n",
            "Epoch 00002: LearningRateScheduler setting learning rate to 0.0022744503.\n",
            "469/469 [==============================] - 12s 25ms/step - loss: 0.0637 - acc: 0.9796 - val_loss: 0.0389 - val_acc: 0.9874\n",
            "Epoch 3/20\n",
            "\n",
            "Epoch 00003: LearningRateScheduler setting learning rate to 0.0018315018.\n",
            "469/469 [==============================] - 12s 25ms/step - loss: 0.0522 - acc: 0.9839 - val_loss: 0.0364 - val_acc: 0.9888\n",
            "Epoch 4/20\n",
            "\n",
            "Epoch 00004: LearningRateScheduler setting learning rate to 0.0015329586.\n",
            "469/469 [==============================] - 12s 25ms/step - loss: 0.0440 - acc: 0.9862 - val_loss: 0.0342 - val_acc: 0.9891\n",
            "Epoch 5/20\n",
            "\n",
            "Epoch 00005: LearningRateScheduler setting learning rate to 0.0013181019.\n",
            "469/469 [==============================] - 12s 25ms/step - loss: 0.0390 - acc: 0.9881 - val_loss: 0.0302 - val_acc: 0.9899\n",
            "Epoch 6/20\n",
            "\n",
            "Epoch 00006: LearningRateScheduler setting learning rate to 0.0011560694.\n",
            "469/469 [==============================] - 12s 25ms/step - loss: 0.0353 - acc: 0.9892 - val_loss: 0.0305 - val_acc: 0.9919\n",
            "Epoch 7/20\n",
            "\n",
            "Epoch 00007: LearningRateScheduler setting learning rate to 0.0010295127.\n",
            "469/469 [==============================] - 12s 25ms/step - loss: 0.0322 - acc: 0.9901 - val_loss: 0.0245 - val_acc: 0.9929\n",
            "Epoch 8/20\n",
            "\n",
            "Epoch 00008: LearningRateScheduler setting learning rate to 0.0009279307.\n",
            "469/469 [==============================] - 12s 25ms/step - loss: 0.0311 - acc: 0.9905 - val_loss: 0.0196 - val_acc: 0.9940\n",
            "Epoch 9/20\n",
            "\n",
            "Epoch 00009: LearningRateScheduler setting learning rate to 0.0008445946.\n",
            "469/469 [==============================] - 12s 25ms/step - loss: 0.0276 - acc: 0.9907 - val_loss: 0.0196 - val_acc: 0.9941\n",
            "Epoch 10/20\n",
            "\n",
            "Epoch 00010: LearningRateScheduler setting learning rate to 0.0007749935.\n",
            "469/469 [==============================] - 12s 25ms/step - loss: 0.0270 - acc: 0.9914 - val_loss: 0.0260 - val_acc: 0.9927\n",
            "Epoch 11/20\n",
            "\n",
            "Epoch 00011: LearningRateScheduler setting learning rate to 0.0007159905.\n",
            "469/469 [==============================] - 11s 24ms/step - loss: 0.0255 - acc: 0.9918 - val_loss: 0.0204 - val_acc: 0.9934\n",
            "Epoch 12/20\n",
            "\n",
            "Epoch 00012: LearningRateScheduler setting learning rate to 0.000665336.\n",
            "469/469 [==============================] - 12s 25ms/step - loss: 0.0242 - acc: 0.9922 - val_loss: 0.0225 - val_acc: 0.9934\n",
            "Epoch 13/20\n",
            "\n",
            "Epoch 00013: LearningRateScheduler setting learning rate to 0.0006213753.\n",
            "469/469 [==============================] - 12s 25ms/step - loss: 0.0236 - acc: 0.9923 - val_loss: 0.0213 - val_acc: 0.9940\n",
            "Epoch 14/20\n",
            "\n",
            "Epoch 00014: LearningRateScheduler setting learning rate to 0.0005828638.\n",
            "469/469 [==============================] - 12s 25ms/step - loss: 0.0226 - acc: 0.9925 - val_loss: 0.0216 - val_acc: 0.9931\n",
            "Epoch 15/20\n",
            "\n",
            "Epoch 00015: LearningRateScheduler setting learning rate to 0.0005488474.\n",
            "469/469 [==============================] - 12s 25ms/step - loss: 0.0220 - acc: 0.9933 - val_loss: 0.0211 - val_acc: 0.9939\n",
            "Epoch 16/20\n",
            "\n",
            "Epoch 00016: LearningRateScheduler setting learning rate to 0.0005185825.\n",
            "469/469 [==============================] - 12s 25ms/step - loss: 0.0214 - acc: 0.9933 - val_loss: 0.0204 - val_acc: 0.9934\n",
            "Epoch 17/20\n",
            "\n",
            "Epoch 00017: LearningRateScheduler setting learning rate to 0.000491481.\n",
            "469/469 [==============================] - 12s 25ms/step - loss: 0.0207 - acc: 0.9933 - val_loss: 0.0223 - val_acc: 0.9930\n",
            "Epoch 18/20\n",
            "\n",
            "Epoch 00018: LearningRateScheduler setting learning rate to 0.0004670715.\n",
            "469/469 [==============================] - 12s 25ms/step - loss: 0.0192 - acc: 0.9940 - val_loss: 0.0200 - val_acc: 0.9940\n",
            "Epoch 19/20\n",
            "\n",
            "Epoch 00019: LearningRateScheduler setting learning rate to 0.0004449718.\n",
            "469/469 [==============================] - 12s 25ms/step - loss: 0.0195 - acc: 0.9937 - val_loss: 0.0198 - val_acc: 0.9939\n",
            "Epoch 20/20\n",
            "\n",
            "Epoch 00020: LearningRateScheduler setting learning rate to 0.000424869.\n",
            "469/469 [==============================] - 12s 25ms/step - loss: 0.0187 - acc: 0.9938 - val_loss: 0.0194 - val_acc: 0.9935\n"
          ],
          "name": "stdout"
        },
        {
          "output_type": "execute_result",
          "data": {
            "text/plain": [
              "<keras.callbacks.History at 0x7fc1ca88bfd0>"
            ]
          },
          "metadata": {
            "tags": []
          },
          "execution_count": 32
        }
      ]
    },
    {
      "cell_type": "code",
      "metadata": {
        "id": "LumrLeKF065o",
        "colab_type": "code",
        "colab": {}
      },
      "source": [
        "lamda=0.02\n",
        "m = X_train.shape[0]\n",
        "\n",
        "def custom_loss(lamda):\n",
        "  model_layers = custom_model.layers # type list where each el is Conv2D obj etc.\n",
        "  #print(model_layers)\n",
        "  reg_wts = 0\n",
        "  \n",
        "  for idx, layer in enumerate(model_layers):\n",
        "    layer_wts = model_layers[idx].get_weights() # type list\n",
        "    #print(len(layer_wts), layer_wts)\n",
        "    \n",
        "    if len(layer_wts) > 0: # activation, dropout layers do not have any weights\n",
        "      layer_wts = model_layers[idx].get_weights()[0] #type ndarray, 3,3,1,16 : layer1 output\n",
        "      reg_wts += np.sum(layer_wts**2)\n",
        "      \n",
        "  print(\"Reg. loss\", reg_wts)    \n",
        "  reg_wts = reg_wts * (lamda/(2*m))\n",
        "      \n",
        "  def total_loss(y_true, y_pred):   \n",
        "    return K.categorical_crossentropy(y_true, y_pred) + reg_wts\n",
        "  \n",
        "  return total_loss\n",
        "      \n",
        "  "
      ],
      "execution_count": 0,
      "outputs": []
    },
    {
      "cell_type": "markdown",
      "metadata": {
        "id": "wwRe9rfRnz4L",
        "colab_type": "text"
      },
      "source": [
        "#### With custom loss and custom LR - 2 values of lambda were tried.\n",
        "\n",
        "1. **Lambda 0.01** - best val. accuracy at epoch 16 is 99.59% (train acc. 99.32%) This is better, so keeping this.\n",
        "2. **Lambda 0.02** - best val. accuracy at epoch 18 is 99.44% (train acc. 99.33%)\n",
        "\n"
      ]
    },
    {
      "cell_type": "code",
      "metadata": {
        "id": "qFR0IlnqtTYu",
        "colab_type": "code",
        "outputId": "cbf86a6e-b9a9-4871-8d2e-61fde7f31778",
        "colab": {
          "base_uri": "https://localhost:8080/",
          "height": 1000
        }
      },
      "source": [
        "custom_model = build_model()\n",
        "custom_model.compile(loss=custom_loss(lamda=0.01), optimizer=Adam(lr=init_lr), metrics=['accuracy'])\n",
        "\n",
        "custom_model.fit_generator(train_iterator, steps_per_epoch=len(train_iterator),                     \n",
        "                    validation_data=valid_iterator, validation_steps=len(valid_iterator),\n",
        "                    epochs=20, verbose=1, callbacks=[new_lr])"
      ],
      "execution_count": 0,
      "outputs": [
        {
          "output_type": "stream",
          "text": [
            "Reg. loss 222.47710072994232\n",
            "Epoch 1/20\n",
            "\n",
            "Epoch 00001: LearningRateScheduler setting learning rate to 0.003.\n",
            "469/469 [==============================] - 18s 38ms/step - loss: 0.2319 - acc: 0.9282 - val_loss: 0.0625 - val_acc: 0.9817\n",
            "Epoch 2/20\n",
            "\n",
            "Epoch 00002: LearningRateScheduler setting learning rate to 0.0022744503.\n",
            "469/469 [==============================] - 12s 26ms/step - loss: 0.0611 - acc: 0.9811 - val_loss: 0.0306 - val_acc: 0.9892\n",
            "Epoch 3/20\n",
            "\n",
            "Epoch 00003: LearningRateScheduler setting learning rate to 0.0018315018.\n",
            "469/469 [==============================] - 12s 25ms/step - loss: 0.0500 - acc: 0.9845 - val_loss: 0.0314 - val_acc: 0.9895\n",
            "Epoch 4/20\n",
            "\n",
            "Epoch 00004: LearningRateScheduler setting learning rate to 0.0015329586.\n",
            "469/469 [==============================] - 12s 26ms/step - loss: 0.0410 - acc: 0.9869 - val_loss: 0.0315 - val_acc: 0.9890\n",
            "Epoch 5/20\n",
            "\n",
            "Epoch 00005: LearningRateScheduler setting learning rate to 0.0013181019.\n",
            "469/469 [==============================] - 12s 25ms/step - loss: 0.0380 - acc: 0.9878 - val_loss: 0.0350 - val_acc: 0.9894\n",
            "Epoch 6/20\n",
            "\n",
            "Epoch 00006: LearningRateScheduler setting learning rate to 0.0011560694.\n",
            "469/469 [==============================] - 12s 25ms/step - loss: 0.0343 - acc: 0.9891 - val_loss: 0.0212 - val_acc: 0.9932\n",
            "Epoch 7/20\n",
            "\n",
            "Epoch 00007: LearningRateScheduler setting learning rate to 0.0010295127.\n",
            "469/469 [==============================] - 12s 25ms/step - loss: 0.0317 - acc: 0.9901 - val_loss: 0.0217 - val_acc: 0.9926\n",
            "Epoch 8/20\n",
            "\n",
            "Epoch 00008: LearningRateScheduler setting learning rate to 0.0009279307.\n",
            "469/469 [==============================] - 12s 25ms/step - loss: 0.0299 - acc: 0.9904 - val_loss: 0.0199 - val_acc: 0.9939\n",
            "Epoch 9/20\n",
            "\n",
            "Epoch 00009: LearningRateScheduler setting learning rate to 0.0008445946.\n",
            "469/469 [==============================] - 12s 25ms/step - loss: 0.0276 - acc: 0.9912 - val_loss: 0.0162 - val_acc: 0.9949\n",
            "Epoch 10/20\n",
            "\n",
            "Epoch 00010: LearningRateScheduler setting learning rate to 0.0007749935.\n",
            "469/469 [==============================] - 12s 25ms/step - loss: 0.0268 - acc: 0.9914 - val_loss: 0.0201 - val_acc: 0.9934\n",
            "Epoch 11/20\n",
            "\n",
            "Epoch 00011: LearningRateScheduler setting learning rate to 0.0007159905.\n",
            "469/469 [==============================] - 12s 25ms/step - loss: 0.0257 - acc: 0.9919 - val_loss: 0.0173 - val_acc: 0.9946\n",
            "Epoch 12/20\n",
            "\n",
            "Epoch 00012: LearningRateScheduler setting learning rate to 0.000665336.\n",
            "469/469 [==============================] - 12s 25ms/step - loss: 0.0232 - acc: 0.9926 - val_loss: 0.0182 - val_acc: 0.9948\n",
            "Epoch 13/20\n",
            "\n",
            "Epoch 00013: LearningRateScheduler setting learning rate to 0.0006213753.\n",
            "469/469 [==============================] - 12s 25ms/step - loss: 0.0241 - acc: 0.9925 - val_loss: 0.0185 - val_acc: 0.9939\n",
            "Epoch 14/20\n",
            "\n",
            "Epoch 00014: LearningRateScheduler setting learning rate to 0.0005828638.\n",
            "469/469 [==============================] - 12s 25ms/step - loss: 0.0234 - acc: 0.9923 - val_loss: 0.0197 - val_acc: 0.9947\n",
            "Epoch 15/20\n",
            "\n",
            "Epoch 00015: LearningRateScheduler setting learning rate to 0.0005488474.\n",
            "469/469 [==============================] - 12s 25ms/step - loss: 0.0216 - acc: 0.9930 - val_loss: 0.0190 - val_acc: 0.9944\n",
            "Epoch 16/20\n",
            "\n",
            "Epoch 00016: LearningRateScheduler setting learning rate to 0.0005185825.\n",
            "469/469 [==============================] - 12s 25ms/step - loss: 0.0209 - acc: 0.9932 - val_loss: 0.0152 - val_acc: 0.9959\n",
            "Epoch 17/20\n",
            "\n",
            "Epoch 00017: LearningRateScheduler setting learning rate to 0.000491481.\n",
            "469/469 [==============================] - 12s 25ms/step - loss: 0.0204 - acc: 0.9934 - val_loss: 0.0147 - val_acc: 0.9953\n",
            "Epoch 18/20\n",
            "\n",
            "Epoch 00018: LearningRateScheduler setting learning rate to 0.0004670715.\n",
            "469/469 [==============================] - 12s 25ms/step - loss: 0.0203 - acc: 0.9931 - val_loss: 0.0168 - val_acc: 0.9942\n",
            "Epoch 19/20\n",
            "\n",
            "Epoch 00019: LearningRateScheduler setting learning rate to 0.0004449718.\n",
            "469/469 [==============================] - 12s 25ms/step - loss: 0.0191 - acc: 0.9937 - val_loss: 0.0190 - val_acc: 0.9943\n",
            "Epoch 20/20\n",
            "\n",
            "Epoch 00020: LearningRateScheduler setting learning rate to 0.000424869.\n",
            "469/469 [==============================] - 12s 25ms/step - loss: 0.0186 - acc: 0.9941 - val_loss: 0.0154 - val_acc: 0.9947\n"
          ],
          "name": "stdout"
        },
        {
          "output_type": "execute_result",
          "data": {
            "text/plain": [
              "<keras.callbacks.History at 0x7fc1c4ee6898>"
            ]
          },
          "metadata": {
            "tags": []
          },
          "execution_count": 41
        }
      ]
    },
    {
      "cell_type": "code",
      "metadata": {
        "id": "ZrXJoO34mYCU",
        "colab_type": "code",
        "outputId": "8d7e309f-5ee6-4671-dd32-2ea1b4456456",
        "colab": {
          "base_uri": "https://localhost:8080/",
          "height": 1000
        }
      },
      "source": [
        "custom_model = build_model()\n",
        "custom_model.compile(loss=custom_loss(0.02), optimizer=Adam(lr=init_lr), metrics=['accuracy'])\n",
        "\n",
        "print(lamda)\n",
        "custom_model.fit_generator(train_iterator, steps_per_epoch=len(train_iterator),                     \n",
        "                    validation_data=valid_iterator, validation_steps=len(valid_iterator),\n",
        "                    epochs=20, verbose=1, callbacks=[new_lr])"
      ],
      "execution_count": 0,
      "outputs": [
        {
          "output_type": "stream",
          "text": [
            "Reg. loss 222.95394575595856\n",
            "0.02\n",
            "Epoch 1/20\n",
            "\n",
            "Epoch 00001: LearningRateScheduler setting learning rate to 0.003.\n",
            "469/469 [==============================] - 17s 36ms/step - loss: 0.2417 - acc: 0.9255 - val_loss: 0.0671 - val_acc: 0.9775\n",
            "Epoch 2/20\n",
            "\n",
            "Epoch 00002: LearningRateScheduler setting learning rate to 0.0022744503.\n",
            "469/469 [==============================] - 12s 25ms/step - loss: 0.0650 - acc: 0.9797 - val_loss: 0.0446 - val_acc: 0.9860\n",
            "Epoch 3/20\n",
            "\n",
            "Epoch 00003: LearningRateScheduler setting learning rate to 0.0018315018.\n",
            "469/469 [==============================] - 12s 25ms/step - loss: 0.0508 - acc: 0.9840 - val_loss: 0.0346 - val_acc: 0.9890\n",
            "Epoch 4/20\n",
            "\n",
            "Epoch 00004: LearningRateScheduler setting learning rate to 0.0015329586.\n",
            "469/469 [==============================] - 12s 26ms/step - loss: 0.0438 - acc: 0.9860 - val_loss: 0.0390 - val_acc: 0.9870\n",
            "Epoch 5/20\n",
            "\n",
            "Epoch 00005: LearningRateScheduler setting learning rate to 0.0013181019.\n",
            "469/469 [==============================] - 12s 25ms/step - loss: 0.0370 - acc: 0.9880 - val_loss: 0.0522 - val_acc: 0.9835\n",
            "Epoch 6/20\n",
            "\n",
            "Epoch 00006: LearningRateScheduler setting learning rate to 0.0011560694.\n",
            "469/469 [==============================] - 12s 25ms/step - loss: 0.0355 - acc: 0.9886 - val_loss: 0.0256 - val_acc: 0.9921\n",
            "Epoch 7/20\n",
            "\n",
            "Epoch 00007: LearningRateScheduler setting learning rate to 0.0010295127.\n",
            "469/469 [==============================] - 12s 25ms/step - loss: 0.0303 - acc: 0.9901 - val_loss: 0.0258 - val_acc: 0.9913\n",
            "Epoch 8/20\n",
            "\n",
            "Epoch 00008: LearningRateScheduler setting learning rate to 0.0009279307.\n",
            "469/469 [==============================] - 12s 25ms/step - loss: 0.0321 - acc: 0.9898 - val_loss: 0.0292 - val_acc: 0.9909\n",
            "Epoch 9/20\n",
            "\n",
            "Epoch 00009: LearningRateScheduler setting learning rate to 0.0008445946.\n",
            "469/469 [==============================] - 12s 25ms/step - loss: 0.0267 - acc: 0.9914 - val_loss: 0.0218 - val_acc: 0.9937\n",
            "Epoch 10/20\n",
            "\n",
            "Epoch 00010: LearningRateScheduler setting learning rate to 0.0007749935.\n",
            "469/469 [==============================] - 12s 25ms/step - loss: 0.0273 - acc: 0.9910 - val_loss: 0.0218 - val_acc: 0.9933\n",
            "Epoch 11/20\n",
            "\n",
            "Epoch 00011: LearningRateScheduler setting learning rate to 0.0007159905.\n",
            "469/469 [==============================] - 12s 25ms/step - loss: 0.0251 - acc: 0.9921 - val_loss: 0.0209 - val_acc: 0.9937\n",
            "Epoch 12/20\n",
            "\n",
            "Epoch 00012: LearningRateScheduler setting learning rate to 0.000665336.\n",
            "469/469 [==============================] - 12s 25ms/step - loss: 0.0240 - acc: 0.9924 - val_loss: 0.0256 - val_acc: 0.9925\n",
            "Epoch 13/20\n",
            "\n",
            "Epoch 00013: LearningRateScheduler setting learning rate to 0.0006213753.\n",
            "469/469 [==============================] - 12s 25ms/step - loss: 0.0229 - acc: 0.9925 - val_loss: 0.0269 - val_acc: 0.9930\n",
            "Epoch 14/20\n",
            "\n",
            "Epoch 00014: LearningRateScheduler setting learning rate to 0.0005828638.\n",
            "469/469 [==============================] - 12s 25ms/step - loss: 0.0220 - acc: 0.9927 - val_loss: 0.0201 - val_acc: 0.9933\n",
            "Epoch 15/20\n",
            "\n",
            "Epoch 00015: LearningRateScheduler setting learning rate to 0.0005488474.\n",
            "469/469 [==============================] - 12s 25ms/step - loss: 0.0225 - acc: 0.9925 - val_loss: 0.0256 - val_acc: 0.9934\n",
            "Epoch 16/20\n",
            "\n",
            "Epoch 00016: LearningRateScheduler setting learning rate to 0.0005185825.\n",
            "469/469 [==============================] - 12s 25ms/step - loss: 0.0193 - acc: 0.9937 - val_loss: 0.0178 - val_acc: 0.9937\n",
            "Epoch 17/20\n",
            "\n",
            "Epoch 00017: LearningRateScheduler setting learning rate to 0.000491481.\n",
            "469/469 [==============================] - 12s 25ms/step - loss: 0.0205 - acc: 0.9931 - val_loss: 0.0264 - val_acc: 0.9926\n",
            "Epoch 18/20\n",
            "\n",
            "Epoch 00018: LearningRateScheduler setting learning rate to 0.0004670715.\n",
            "469/469 [==============================] - 12s 25ms/step - loss: 0.0202 - acc: 0.9933 - val_loss: 0.0200 - val_acc: 0.9944\n",
            "Epoch 19/20\n",
            "\n",
            "Epoch 00019: LearningRateScheduler setting learning rate to 0.0004449718.\n",
            "469/469 [==============================] - 12s 25ms/step - loss: 0.0176 - acc: 0.9941 - val_loss: 0.0223 - val_acc: 0.9936\n",
            "Epoch 20/20\n",
            "\n",
            "Epoch 00020: LearningRateScheduler setting learning rate to 0.000424869.\n",
            "469/469 [==============================] - 12s 25ms/step - loss: 0.0186 - acc: 0.9940 - val_loss: 0.0238 - val_acc: 0.9932\n"
          ],
          "name": "stdout"
        },
        {
          "output_type": "execute_result",
          "data": {
            "text/plain": [
              "<keras.callbacks.History at 0x7fc1c3cdae10>"
            ]
          },
          "metadata": {
            "tags": []
          },
          "execution_count": 39
        }
      ]
    },
    {
      "cell_type": "markdown",
      "metadata": {
        "id": "RoYsjsa8odyD",
        "colab_type": "text"
      },
      "source": [
        "## Final run for 40 epochs with lambda 0.01"
      ]
    },
    {
      "cell_type": "code",
      "metadata": {
        "id": "LFCLeb8SLH0c",
        "colab_type": "code",
        "outputId": "31554b66-18ad-4e95-d65a-f8cb358aeba5",
        "colab": {
          "base_uri": "https://localhost:8080/",
          "height": 1000
        }
      },
      "source": [
        "custom_model = build_model()\n",
        "custom_model.compile(loss=custom_loss(lamda=0.01), optimizer=Adam(lr=init_lr), metrics=['accuracy'])\n",
        "\n",
        "file = dir + \"Assign5-{epoch:02d}-{val_acc:.4f}.hdf5\"\n",
        "checkpoint = ModelCheckpoint(file, monitor='val_acc', verbose=1, save_best_only=True, mode='max')\n",
        "\n",
        "custom_model.fit_generator(train_iterator, steps_per_epoch=len(train_iterator),                     \n",
        "                    validation_data=valid_iterator, validation_steps=len(valid_iterator),\n",
        "                    epochs=40, verbose=1, callbacks=[new_lr, checkpoint])"
      ],
      "execution_count": 0,
      "outputs": [
        {
          "output_type": "stream",
          "text": [
            "Reg. loss 223.21972465515137\n",
            "Epoch 1/40\n",
            "\n",
            "Epoch 00001: LearningRateScheduler setting learning rate to 0.003.\n",
            "469/469 [==============================] - 19s 40ms/step - loss: 0.2194 - acc: 0.9324 - val_loss: 0.0542 - val_acc: 0.9812\n",
            "\n",
            "Epoch 00001: val_acc improved from -inf to 0.98120, saving model to /content/gdrive/My Drive/Colab Notebooks/EVA/Weights/Assign5/Assign5-01-0.9812.hdf5\n",
            "Epoch 2/40\n",
            "\n",
            "Epoch 00002: LearningRateScheduler setting learning rate to 0.0022744503.\n",
            "469/469 [==============================] - 12s 26ms/step - loss: 0.0613 - acc: 0.9805 - val_loss: 0.0356 - val_acc: 0.9885\n",
            "\n",
            "Epoch 00002: val_acc improved from 0.98120 to 0.98850, saving model to /content/gdrive/My Drive/Colab Notebooks/EVA/Weights/Assign5/Assign5-02-0.9885.hdf5\n",
            "Epoch 3/40\n",
            "\n",
            "Epoch 00003: LearningRateScheduler setting learning rate to 0.0018315018.\n",
            "469/469 [==============================] - 12s 25ms/step - loss: 0.0481 - acc: 0.9847 - val_loss: 0.0282 - val_acc: 0.9916\n",
            "\n",
            "Epoch 00003: val_acc improved from 0.98850 to 0.99160, saving model to /content/gdrive/My Drive/Colab Notebooks/EVA/Weights/Assign5/Assign5-03-0.9916.hdf5\n",
            "Epoch 4/40\n",
            "\n",
            "Epoch 00004: LearningRateScheduler setting learning rate to 0.0015329586.\n",
            "469/469 [==============================] - 12s 25ms/step - loss: 0.0413 - acc: 0.9873 - val_loss: 0.0299 - val_acc: 0.9900\n",
            "\n",
            "Epoch 00004: val_acc did not improve from 0.99160\n",
            "Epoch 5/40\n",
            "\n",
            "Epoch 00005: LearningRateScheduler setting learning rate to 0.0013181019.\n",
            "469/469 [==============================] - 12s 26ms/step - loss: 0.0363 - acc: 0.9888 - val_loss: 0.0302 - val_acc: 0.9916\n",
            "\n",
            "Epoch 00005: val_acc did not improve from 0.99160\n",
            "Epoch 6/40\n",
            "\n",
            "Epoch 00006: LearningRateScheduler setting learning rate to 0.0011560694.\n",
            "469/469 [==============================] - 12s 26ms/step - loss: 0.0352 - acc: 0.9891 - val_loss: 0.0297 - val_acc: 0.9912\n",
            "\n",
            "Epoch 00006: val_acc did not improve from 0.99160\n",
            "Epoch 7/40\n",
            "\n",
            "Epoch 00007: LearningRateScheduler setting learning rate to 0.0010295127.\n",
            "469/469 [==============================] - 12s 26ms/step - loss: 0.0315 - acc: 0.9904 - val_loss: 0.0198 - val_acc: 0.9942\n",
            "\n",
            "Epoch 00007: val_acc improved from 0.99160 to 0.99420, saving model to /content/gdrive/My Drive/Colab Notebooks/EVA/Weights/Assign5/Assign5-07-0.9942.hdf5\n",
            "Epoch 8/40\n",
            "\n",
            "Epoch 00008: LearningRateScheduler setting learning rate to 0.0009279307.\n",
            "469/469 [==============================] - 12s 25ms/step - loss: 0.0289 - acc: 0.9908 - val_loss: 0.0192 - val_acc: 0.9948\n",
            "\n",
            "Epoch 00008: val_acc improved from 0.99420 to 0.99480, saving model to /content/gdrive/My Drive/Colab Notebooks/EVA/Weights/Assign5/Assign5-08-0.9948.hdf5\n",
            "Epoch 9/40\n",
            "\n",
            "Epoch 00009: LearningRateScheduler setting learning rate to 0.0008445946.\n",
            "469/469 [==============================] - 12s 26ms/step - loss: 0.0268 - acc: 0.9913 - val_loss: 0.0269 - val_acc: 0.9919\n",
            "\n",
            "Epoch 00009: val_acc did not improve from 0.99480\n",
            "Epoch 10/40\n",
            "\n",
            "Epoch 00010: LearningRateScheduler setting learning rate to 0.0007749935.\n",
            "469/469 [==============================] - 12s 25ms/step - loss: 0.0252 - acc: 0.9919 - val_loss: 0.0182 - val_acc: 0.9943\n",
            "\n",
            "Epoch 00010: val_acc did not improve from 0.99480\n",
            "Epoch 11/40\n",
            "\n",
            "Epoch 00011: LearningRateScheduler setting learning rate to 0.0007159905.\n",
            "469/469 [==============================] - 12s 25ms/step - loss: 0.0228 - acc: 0.9927 - val_loss: 0.0256 - val_acc: 0.9931\n",
            "\n",
            "Epoch 00011: val_acc did not improve from 0.99480\n",
            "Epoch 12/40\n",
            "\n",
            "Epoch 00012: LearningRateScheduler setting learning rate to 0.000665336.\n",
            "469/469 [==============================] - 12s 25ms/step - loss: 0.0227 - acc: 0.9929 - val_loss: 0.0219 - val_acc: 0.9939\n",
            "\n",
            "Epoch 00012: val_acc did not improve from 0.99480\n",
            "Epoch 13/40\n",
            "\n",
            "Epoch 00013: LearningRateScheduler setting learning rate to 0.0006213753.\n",
            "469/469 [==============================] - 12s 25ms/step - loss: 0.0237 - acc: 0.9917 - val_loss: 0.0184 - val_acc: 0.9937\n",
            "\n",
            "Epoch 00013: val_acc did not improve from 0.99480\n",
            "Epoch 14/40\n",
            "\n",
            "Epoch 00014: LearningRateScheduler setting learning rate to 0.0005828638.\n",
            "469/469 [==============================] - 12s 26ms/step - loss: 0.0224 - acc: 0.9927 - val_loss: 0.0189 - val_acc: 0.9938\n",
            "\n",
            "Epoch 00014: val_acc did not improve from 0.99480\n",
            "Epoch 15/40\n",
            "\n",
            "Epoch 00015: LearningRateScheduler setting learning rate to 0.0005488474.\n",
            "469/469 [==============================] - 12s 26ms/step - loss: 0.0208 - acc: 0.9933 - val_loss: 0.0233 - val_acc: 0.9938\n",
            "\n",
            "Epoch 00015: val_acc did not improve from 0.99480\n",
            "Epoch 16/40\n",
            "\n",
            "Epoch 00016: LearningRateScheduler setting learning rate to 0.0005185825.\n",
            "469/469 [==============================] - 12s 25ms/step - loss: 0.0218 - acc: 0.9930 - val_loss: 0.0189 - val_acc: 0.9945\n",
            "\n",
            "Epoch 00016: val_acc did not improve from 0.99480\n",
            "Epoch 17/40\n",
            "\n",
            "Epoch 00017: LearningRateScheduler setting learning rate to 0.000491481.\n",
            "469/469 [==============================] - 12s 25ms/step - loss: 0.0189 - acc: 0.9940 - val_loss: 0.0185 - val_acc: 0.9937\n",
            "\n",
            "Epoch 00017: val_acc did not improve from 0.99480\n",
            "Epoch 18/40\n",
            "\n",
            "Epoch 00018: LearningRateScheduler setting learning rate to 0.0004670715.\n",
            "469/469 [==============================] - 12s 25ms/step - loss: 0.0174 - acc: 0.9942 - val_loss: 0.0154 - val_acc: 0.9954\n",
            "\n",
            "Epoch 00018: val_acc improved from 0.99480 to 0.99540, saving model to /content/gdrive/My Drive/Colab Notebooks/EVA/Weights/Assign5/Assign5-18-0.9954.hdf5\n",
            "Epoch 19/40\n",
            "\n",
            "Epoch 00019: LearningRateScheduler setting learning rate to 0.0004449718.\n",
            "469/469 [==============================] - 12s 25ms/step - loss: 0.0205 - acc: 0.9934 - val_loss: 0.0187 - val_acc: 0.9941\n",
            "\n",
            "Epoch 00019: val_acc did not improve from 0.99540\n",
            "Epoch 20/40\n",
            "\n",
            "Epoch 00020: LearningRateScheduler setting learning rate to 0.000424869.\n",
            "469/469 [==============================] - 12s 25ms/step - loss: 0.0177 - acc: 0.9938 - val_loss: 0.0193 - val_acc: 0.9943\n",
            "\n",
            "Epoch 00020: val_acc did not improve from 0.99540\n",
            "Epoch 21/40\n",
            "\n",
            "Epoch 00021: LearningRateScheduler setting learning rate to 0.0004065041.\n",
            "469/469 [==============================] - 12s 25ms/step - loss: 0.0186 - acc: 0.9939 - val_loss: 0.0187 - val_acc: 0.9945\n",
            "\n",
            "Epoch 00021: val_acc did not improve from 0.99540\n",
            "Epoch 22/40\n",
            "\n",
            "Epoch 00022: LearningRateScheduler setting learning rate to 0.000389661.\n",
            "469/469 [==============================] - 12s 25ms/step - loss: 0.0184 - acc: 0.9939 - val_loss: 0.0173 - val_acc: 0.9945\n",
            "\n",
            "Epoch 00022: val_acc did not improve from 0.99540\n",
            "Epoch 23/40\n",
            "\n",
            "Epoch 00023: LearningRateScheduler setting learning rate to 0.0003741581.\n",
            "469/469 [==============================] - 12s 25ms/step - loss: 0.0161 - acc: 0.9947 - val_loss: 0.0199 - val_acc: 0.9946\n",
            "\n",
            "Epoch 00023: val_acc did not improve from 0.99540\n",
            "Epoch 24/40\n",
            "\n",
            "Epoch 00024: LearningRateScheduler setting learning rate to 0.0003598417.\n",
            "469/469 [==============================] - 12s 25ms/step - loss: 0.0157 - acc: 0.9949 - val_loss: 0.0126 - val_acc: 0.9957\n",
            "\n",
            "Epoch 00024: val_acc improved from 0.99540 to 0.99570, saving model to /content/gdrive/My Drive/Colab Notebooks/EVA/Weights/Assign5/Assign5-24-0.9957.hdf5\n",
            "Epoch 25/40\n",
            "\n",
            "Epoch 00025: LearningRateScheduler setting learning rate to 0.0003465804.\n",
            "469/469 [==============================] - 12s 25ms/step - loss: 0.0172 - acc: 0.9942 - val_loss: 0.0187 - val_acc: 0.9943\n",
            "\n",
            "Epoch 00025: val_acc did not improve from 0.99570\n",
            "Epoch 26/40\n",
            "\n",
            "Epoch 00026: LearningRateScheduler setting learning rate to 0.0003342618.\n",
            "469/469 [==============================] - 12s 25ms/step - loss: 0.0165 - acc: 0.9945 - val_loss: 0.0165 - val_acc: 0.9958\n",
            "\n",
            "Epoch 00026: val_acc improved from 0.99570 to 0.99580, saving model to /content/gdrive/My Drive/Colab Notebooks/EVA/Weights/Assign5/Assign5-26-0.9958.hdf5\n",
            "Epoch 27/40\n",
            "\n",
            "Epoch 00027: LearningRateScheduler setting learning rate to 0.0003227889.\n",
            "469/469 [==============================] - 12s 25ms/step - loss: 0.0154 - acc: 0.9951 - val_loss: 0.0196 - val_acc: 0.9946\n",
            "\n",
            "Epoch 00027: val_acc did not improve from 0.99580\n",
            "Epoch 28/40\n",
            "\n",
            "Epoch 00028: LearningRateScheduler setting learning rate to 0.0003120774.\n",
            "469/469 [==============================] - 12s 25ms/step - loss: 0.0156 - acc: 0.9949 - val_loss: 0.0178 - val_acc: 0.9953\n",
            "\n",
            "Epoch 00028: val_acc did not improve from 0.99580\n",
            "Epoch 29/40\n",
            "\n",
            "Epoch 00029: LearningRateScheduler setting learning rate to 0.000302054.\n",
            "469/469 [==============================] - 12s 25ms/step - loss: 0.0144 - acc: 0.9952 - val_loss: 0.0155 - val_acc: 0.9953\n",
            "\n",
            "Epoch 00029: val_acc did not improve from 0.99580\n",
            "Epoch 30/40\n",
            "\n",
            "Epoch 00030: LearningRateScheduler setting learning rate to 0.0002926544.\n",
            "469/469 [==============================] - 12s 25ms/step - loss: 0.0143 - acc: 0.9948 - val_loss: 0.0207 - val_acc: 0.9939\n",
            "\n",
            "Epoch 00030: val_acc did not improve from 0.99580\n",
            "Epoch 31/40\n",
            "\n",
            "Epoch 00031: LearningRateScheduler setting learning rate to 0.0002838221.\n",
            "469/469 [==============================] - 12s 25ms/step - loss: 0.0144 - acc: 0.9955 - val_loss: 0.0144 - val_acc: 0.9949\n",
            "\n",
            "Epoch 00031: val_acc did not improve from 0.99580\n",
            "Epoch 32/40\n",
            "\n",
            "Epoch 00032: LearningRateScheduler setting learning rate to 0.0002755074.\n",
            "469/469 [==============================] - 12s 25ms/step - loss: 0.0144 - acc: 0.9954 - val_loss: 0.0178 - val_acc: 0.9953\n",
            "\n",
            "Epoch 00032: val_acc did not improve from 0.99580\n",
            "Epoch 33/40\n",
            "\n",
            "Epoch 00033: LearningRateScheduler setting learning rate to 0.000267666.\n",
            "469/469 [==============================] - 12s 25ms/step - loss: 0.0154 - acc: 0.9947 - val_loss: 0.0215 - val_acc: 0.9948\n",
            "\n",
            "Epoch 00033: val_acc did not improve from 0.99580\n",
            "Epoch 34/40\n",
            "\n",
            "Epoch 00034: LearningRateScheduler setting learning rate to 0.0002602585.\n",
            "469/469 [==============================] - 12s 25ms/step - loss: 0.0126 - acc: 0.9957 - val_loss: 0.0155 - val_acc: 0.9953\n",
            "\n",
            "Epoch 00034: val_acc did not improve from 0.99580\n",
            "Epoch 35/40\n",
            "\n",
            "Epoch 00035: LearningRateScheduler setting learning rate to 0.00025325.\n",
            "469/469 [==============================] - 12s 25ms/step - loss: 0.0143 - acc: 0.9952 - val_loss: 0.0188 - val_acc: 0.9940\n",
            "\n",
            "Epoch 00035: val_acc did not improve from 0.99580\n",
            "Epoch 36/40\n",
            "\n",
            "Epoch 00036: LearningRateScheduler setting learning rate to 0.0002466091.\n",
            "469/469 [==============================] - 12s 25ms/step - loss: 0.0137 - acc: 0.9956 - val_loss: 0.0172 - val_acc: 0.9949\n",
            "\n",
            "Epoch 00036: val_acc did not improve from 0.99580\n",
            "Epoch 37/40\n",
            "\n",
            "Epoch 00037: LearningRateScheduler setting learning rate to 0.0002403076.\n",
            "469/469 [==============================] - 12s 25ms/step - loss: 0.0134 - acc: 0.9953 - val_loss: 0.0182 - val_acc: 0.9957\n",
            "\n",
            "Epoch 00037: val_acc did not improve from 0.99580\n",
            "Epoch 38/40\n",
            "\n",
            "Epoch 00038: LearningRateScheduler setting learning rate to 0.0002343201.\n",
            "469/469 [==============================] - 12s 25ms/step - loss: 0.0137 - acc: 0.9957 - val_loss: 0.0189 - val_acc: 0.9950\n",
            "\n",
            "Epoch 00038: val_acc did not improve from 0.99580\n",
            "Epoch 39/40\n",
            "\n",
            "Epoch 00039: LearningRateScheduler setting learning rate to 0.0002286237.\n",
            "469/469 [==============================] - 12s 25ms/step - loss: 0.0130 - acc: 0.9955 - val_loss: 0.0196 - val_acc: 0.9939\n",
            "\n",
            "Epoch 00039: val_acc did not improve from 0.99580\n",
            "Epoch 40/40\n",
            "\n",
            "Epoch 00040: LearningRateScheduler setting learning rate to 0.0002231977.\n",
            "469/469 [==============================] - 12s 25ms/step - loss: 0.0131 - acc: 0.9958 - val_loss: 0.0182 - val_acc: 0.9947\n",
            "\n",
            "Epoch 00040: val_acc did not improve from 0.99580\n"
          ],
          "name": "stdout"
        },
        {
          "output_type": "execute_result",
          "data": {
            "text/plain": [
              "<keras.callbacks.History at 0x7fc1bfd36668>"
            ]
          },
          "metadata": {
            "tags": []
          },
          "execution_count": 43
        }
      ]
    },
    {
      "cell_type": "code",
      "metadata": {
        "id": "GiouEcC5ZY_R",
        "colab_type": "code",
        "outputId": "687a302f-c249-42d3-91ad-ffd12a033bb1",
        "colab": {
          "base_uri": "https://localhost:8080/",
          "height": 90
        }
      },
      "source": [
        "custom_model = build_model()\n",
        "custom_model.compile(loss=custom_loss(lamda=0.01), optimizer=Adam(lr=init_lr), metrics=['accuracy'])\n",
        "\n",
        "custom_model.load_weights(dir + \"Assign5-26-0.9958.hdf5\")\n",
        "print(\"Loaded model from disk \")\n",
        "\n",
        "custom_model.evaluate_generator(generator=valid_iterator, steps=len(valid_iterator),verbose=1)"
      ],
      "execution_count": 0,
      "outputs": [
        {
          "output_type": "stream",
          "text": [
            "Reg. loss 221.85656595230103\n",
            "Loaded model from disk \n",
            "79/79 [==============================] - 3s 32ms/step\n"
          ],
          "name": "stdout"
        },
        {
          "output_type": "execute_result",
          "data": {
            "text/plain": [
              "[0.015816399124125018, 0.9954]"
            ]
          },
          "metadata": {
            "tags": []
          },
          "execution_count": 58
        }
      ]
    },
    {
      "cell_type": "markdown",
      "metadata": {
        "id": "CLnVykza3cR8",
        "colab_type": "text"
      },
      "source": [
        "#### Get m misclassified images"
      ]
    },
    {
      "cell_type": "code",
      "metadata": {
        "id": "m2qDl21ozBnW",
        "colab_type": "code",
        "colab": {}
      },
      "source": [
        "pred_classes=[]\n",
        "test_classes=[]\n",
        "\n",
        "def get_incorrect_im(X_test, m):\n",
        "  global pred_classes, test_classes\n",
        "    \n",
        "  Y_pred = custom_model.predict(X_test)\n",
        "  pred_classes = np.argmax(Y_pred, axis=1)\n",
        "  test_classes = np.argmax(Y_test, axis=1)\n",
        "\n",
        "  incorrect_im = (test_classes != pred_classes) \n",
        "  \n",
        "  incorrect_idx_list = [i for i, j in enumerate(incorrect_im) if j == True]\n",
        "  idx_list = incorrect_idx_list[:m]\n",
        "  return idx_list"
      ],
      "execution_count": 0,
      "outputs": []
    },
    {
      "cell_type": "code",
      "metadata": {
        "id": "kQvvg8V37we9",
        "colab_type": "code",
        "outputId": "c3d6aec7-2884-4cc1-c92d-9f015c3f6449",
        "colab": {
          "base_uri": "https://localhost:8080/",
          "height": 773
        }
      },
      "source": [
        "incorrect_idx_list = get_incorrect_im(X_test, 25)\n",
        "print(len(incorrect_idx_list), incorrect_idx_list[:10])\n",
        "\n",
        "fig = plt.figure(figsize=(10,12)) # width,height\n",
        "\n",
        "first_incorrect_idx = incorrect_idx_list[0]\n",
        "print(\"For first incorrect image :\")\n",
        "print(\"Predicted\", pred_classes[first_incorrect_idx]) #, Y_pred[first_incorrect_idx])\n",
        "print(\"Actual\", test_classes[first_incorrect_idx]) #, Y_test[first_incorrect_idx])\n",
        "\n",
        "for idx, val in enumerate(incorrect_idx_list):\n",
        "  \n",
        "  # Plot the original test image\n",
        "  sub = fig.add_subplot(5, 5, idx+1) # nrows, ncols, index\n",
        "  \n",
        "  label = str(pred_classes[val]) + \":\" + str(test_classes[val])\n",
        "  sub.set_title(label)\n",
        "  sub.imshow(x_test[val], cmap=plt.get_cmap('gray'))"
      ],
      "execution_count": 0,
      "outputs": [
        {
          "output_type": "stream",
          "text": [
            "25 [0, 1, 2, 3, 4, 5, 6, 7, 8, 9]\n",
            "For first incorrect image :\n",
            "Predicted 8\n",
            "Actual 7\n"
          ],
          "name": "stdout"
        },
        {
          "output_type": "display_data",
          "data": {
            "image/png": "[encoded data removed]",
            "text/plain": [
              "<Figure size 720x864 with 25 Axes>"
            ]
          },
          "metadata": {
            "tags": []
          }
        }
      ]
    }
  ]
}